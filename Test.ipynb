{
 "cells": [
  {
   "cell_type": "code",
   "execution_count": 1,
   "id": "73746565-38c7-4df2-ab9f-2bf518e64bd8",
   "metadata": {},
   "outputs": [
    {
     "name": "stdout",
     "output_type": "stream",
     "text": [
      "[1] \"Hello World\"\n"
     ]
    }
   ],
   "source": [
    "print(\"Hello World\")"
   ]
  },
  {
   "cell_type": "code",
   "execution_count": 2,
   "id": "cfc9503d-7353-4c64-ab86-e50fde5bc4c2",
   "metadata": {},
   "outputs": [
    {
     "data": {
      "text/html": [
       "-28"
      ],
      "text/latex": [
       "-28"
      ],
      "text/markdown": [
       "-28"
      ],
      "text/plain": [
       "[1] -28"
      ]
     },
     "metadata": {},
     "output_type": "display_data"
    }
   ],
   "source": [
    "#added a line of code\n",
    "50-78"
   ]
  },
  {
   "cell_type": "code",
   "execution_count": null,
   "id": "6f496db7-44e8-4bd0-9b78-2ea80b4ee28d",
   "metadata": {},
   "outputs": [],
   "source": []
  }
 ],
 "metadata": {
  "kernelspec": {
   "display_name": "R",
   "language": "R",
   "name": "ir"
  },
  "language_info": {
   "codemirror_mode": "r",
   "file_extension": ".r",
   "mimetype": "text/x-r-source",
   "name": "R",
   "pygments_lexer": "r",
   "version": "4.3.3"
  }
 },
 "nbformat": 4,
 "nbformat_minor": 5
}
